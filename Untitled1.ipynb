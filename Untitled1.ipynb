{
  "nbformat": 4,
  "nbformat_minor": 0,
  "metadata": {
    "colab": {
      "provenance": [],
      "authorship_tag": "ABX9TyMoVjwSYBiiufTznJRPiTW/",
      "include_colab_link": true
    },
    "kernelspec": {
      "name": "python3",
      "display_name": "Python 3"
    },
    "language_info": {
      "name": "python"
    }
  },
  "cells": [
    {
      "cell_type": "markdown",
      "metadata": {
        "id": "view-in-github",
        "colab_type": "text"
      },
      "source": [
        "<a href=\"https://colab.research.google.com/github/jiraiya1729/practise/blob/main/Untitled1.ipynb\" target=\"_parent\"><img src=\"https://colab.research.google.com/assets/colab-badge.svg\" alt=\"Open In Colab\"/></a>"
      ]
    },
    {
      "cell_type": "markdown",
      "source": [
        "To find the sum of natural numbers (0 to 10)"
      ],
      "metadata": {
        "id": "WTzGR5bz2GyZ"
      }
    },
    {
      "cell_type": "code",
      "execution_count": null,
      "metadata": {
        "colab": {
          "base_uri": "https://localhost:8080/"
        },
        "id": "ctbuh-or2Bba",
        "outputId": "2ef90df1-d0dc-4d86-bb8a-a84e3fcb9be1"
      },
      "outputs": [
        {
          "output_type": "stream",
          "name": "stdout",
          "text": [
            "55\n"
          ]
        }
      ],
      "source": [
        "sum = 0\n",
        "for i in range(11):\n",
        "    sum += i\n",
        "print(sum)"
      ]
    },
    {
      "cell_type": "markdown",
      "source": [
        "Count digits"
      ],
      "metadata": {
        "id": "25i_bI9F2nPz"
      }
    },
    {
      "cell_type": "code",
      "source": [
        "n = input()\n",
        "print(len(n))"
      ],
      "metadata": {
        "colab": {
          "base_uri": "https://localhost:8080/"
        },
        "id": "8x97Wgf52mYT",
        "outputId": "cc17c011-0bb5-4b27-f9d1-e0435690bb2d"
      },
      "execution_count": null,
      "outputs": [
        {
          "output_type": "stream",
          "name": "stdout",
          "text": [
            "3459\n",
            "4\n"
          ]
        }
      ]
    },
    {
      "cell_type": "markdown",
      "source": [
        "check palindrome"
      ],
      "metadata": {
        "id": "oFJF4DYk25-k"
      }
    },
    {
      "cell_type": "code",
      "source": [
        "n = input()\n",
        "reversed = n[::-1]\n",
        "if n == reversed:\n",
        "  print(\"palindrome\")\n",
        "else:\n",
        "  print(\"not a palindrome\")"
      ],
      "metadata": {
        "colab": {
          "base_uri": "https://localhost:8080/"
        },
        "id": "dzimddDi2hqc",
        "outputId": "e7dfc6c3-e049-4ce4-b98a-14f9ba6afe57"
      },
      "execution_count": null,
      "outputs": [
        {
          "output_type": "stream",
          "name": "stdout",
          "text": [
            "989\n",
            "palindrome\n"
          ]
        }
      ]
    },
    {
      "cell_type": "markdown",
      "source": [
        "factorial of a number\n"
      ],
      "metadata": {
        "id": "xwgdxhW83Y87"
      }
    },
    {
      "cell_type": "code",
      "source": [
        "def fact(n):\n",
        "  if n==1 or n==0:\n",
        "    return 1\n",
        "  return n*fact(n-1)\n",
        "\n",
        "n = input()\n",
        "print(fact(int(n)))\n"
      ],
      "metadata": {
        "colab": {
          "base_uri": "https://localhost:8080/"
        },
        "id": "QMYZEEKU3TlK",
        "outputId": "978df6e3-97ae-427b-e8a7-1735af117748"
      },
      "execution_count": null,
      "outputs": [
        {
          "output_type": "stream",
          "name": "stdout",
          "text": [
            "5\n",
            "120\n"
          ]
        }
      ]
    },
    {
      "cell_type": "code",
      "source": [],
      "metadata": {
        "id": "pd00gdZW3p3U"
      },
      "execution_count": null,
      "outputs": []
    }
  ]
}